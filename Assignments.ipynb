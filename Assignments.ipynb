{
  "nbformat": 4,
  "nbformat_minor": 0,
  "metadata": {
    "colab": {
      "name": "Assignments.ipynb",
      "provenance": [],
      "collapsed_sections": [],
      "authorship_tag": "ABX9TyOgIK1HqbbM6oNGziGUm7f2",
      "include_colab_link": true
    },
    "kernelspec": {
      "name": "python3",
      "display_name": "Python 3"
    },
    "language_info": {
      "name": "python"
    }
  },
  "cells": [
    {
      "cell_type": "markdown",
      "metadata": {
        "id": "view-in-github",
        "colab_type": "text"
      },
      "source": [
        "<a href=\"https://colab.research.google.com/github/Angrhaaa/Assignments-submission/blob/main/Assignments.ipynb\" target=\"_parent\"><img src=\"https://colab.research.google.com/assets/colab-badge.svg\" alt=\"Open In Colab\"/></a>"
      ]
    },
    {
      "cell_type": "code",
      "metadata": {
        "colab": {
          "base_uri": "https://localhost:8080/"
        },
        "id": "GSRG2jqWwBcy",
        "outputId": "d97a7840-15ec-45be-bc2e-6f5b5dc0bbc7"
      },
      "source": [
        "#Assignment 1\n",
        "#sort a list in descending order\n",
        " \n",
        "li = [int(i) for i in input ('Enter values:'). split ()]\n",
        "li.sort(reverse=True)\n",
        "print (li)"
      ],
      "execution_count": null,
      "outputs": [
        {
          "output_type": "stream",
          "text": [
            "Enter values:34 67 12 65 30\n",
            "[67, 65, 34, 30, 12]\n"
          ],
          "name": "stdout"
        }
      ]
    },
    {
      "cell_type": "code",
      "metadata": {
        "colab": {
          "base_uri": "https://localhost:8080/"
        },
        "id": "K9OXbpDJw0jz",
        "outputId": "94345bf6-412b-44e1-c96c-32b6a30b43d1"
      },
      "source": [
        "#descending order\n",
        "\n",
        "li = [int(i) for i in input ('Enter values:'). split ()]\n",
        "li.sort()\n",
        "li.reverse()\n",
        "print (li)"
      ],
      "execution_count": null,
      "outputs": [
        {
          "output_type": "stream",
          "text": [
            "Enter values:7 4 9 0 45\n",
            "[45, 9, 7, 4, 0]\n"
          ],
          "name": "stdout"
        }
      ]
    },
    {
      "cell_type": "code",
      "metadata": {
        "id": "JeBDtiDR8dr7",
        "colab": {
          "base_uri": "https://localhost:8080/"
        },
        "outputId": "623015d7-a6aa-4caf-9492-2698e1ddd904"
      },
      "source": [
        "#Assignment 2\n",
        "#Remove all occurrences of an element from a list\n",
        " \n",
        "def remove(li,x):\n",
        "  for i in li: \n",
        "        if(i == x):\n",
        "         li.remove(i) \n",
        " \n",
        "x=0\n",
        "li =[2,0,5,9,7,0,6,0,1]\n",
        "y=remove(li,x)\n",
        "print (li)"
      ],
      "execution_count": null,
      "outputs": [
        {
          "output_type": "stream",
          "text": [
            "[2, 5, 9, 7, 6, 1]\n"
          ],
          "name": "stdout"
        }
      ]
    },
    {
      "cell_type": "code",
      "metadata": {
        "id": "kCgXgmUySmCL",
        "colab": {
          "base_uri": "https://localhost:8080/"
        },
        "outputId": "fa532b0b-5419-45d3-8df0-b04a6c87bebc"
      },
      "source": [
        "#Assignment 3\n",
        "#Check whether a string is pangram\n",
        " \n",
        "import string\n",
        " \n",
        "alpha = set(string.ascii_lowercase)\n",
        "  \n",
        "def pangram(string):\n",
        "    return set(string.lower()) >= alpha\n",
        "    \n",
        "string = input(\"Enter the string:\")\n",
        "if(pangram(string) == True):\n",
        "    print(\"Yes\")\n",
        "else:\n",
        "    print(\"No\")"
      ],
      "execution_count": null,
      "outputs": [
        {
          "output_type": "stream",
          "text": [
            "Enter the string:The quick brown fox jumps over the lazy dog\n",
            "Yes\n"
          ],
          "name": "stdout"
        }
      ]
    },
    {
      "cell_type": "code",
      "metadata": {
        "id": "b0HyRIPrb2sA",
        "colab": {
          "base_uri": "https://localhost:8080/"
        },
        "outputId": "d6d7e49e-8e42-4550-c740-7bf957cbb2e3"
      },
      "source": [
        " \n",
        "# Project 1: OTP Generator\n",
        "# Generate a 6 character OTP\n",
        "import random as r\n",
        "import string\n",
        "length = 6\n",
        "otp = ''\n",
        "characters = string.ascii_letters + string.digits\n",
        " \n",
        "for i in range(length):\n",
        "  otp = otp + r.choice(characters)\n",
        " \n",
        "print(\"OTP:\",otp)"
      ],
      "execution_count": null,
      "outputs": [
        {
          "output_type": "stream",
          "text": [
            "OTP: auELOh\n"
          ],
          "name": "stdout"
        }
      ]
    },
    {
      "cell_type": "code",
      "metadata": {
        "id": "NYxkb5F0KkAq",
        "colab": {
          "base_uri": "https://localhost:8080/"
        },
        "outputId": "d49f2262-d769-4fb6-8fd8-ba7ea65aa611"
      },
      "source": [
        "#Project 2 : Make a temperature converter\n",
        " \n",
        "!pip install pytemperature"
      ],
      "execution_count": null,
      "outputs": [
        {
          "output_type": "stream",
          "text": [
            "Collecting pytemperature\n",
            "  Downloading pytemperature-1.0.zip (2.2 kB)\n",
            "Building wheels for collected packages: pytemperature\n",
            "  Building wheel for pytemperature (setup.py) ... \u001b[?25l\u001b[?25hdone\n",
            "  Created wheel for pytemperature: filename=pytemperature-1.0-py3-none-any.whl size=1939 sha256=a05ccb00a1941466d9e9b6e62acaa43cd1041ffff4e6ce5cb7947755b3cd5eba\n",
            "  Stored in directory: /root/.cache/pip/wheels/5b/3e/4c/c298388b6bf7b6fe1207e185f532a5d8cf18d30c64660b61ee\n",
            "Successfully built pytemperature\n",
            "Installing collected packages: pytemperature\n",
            "Successfully installed pytemperature-1.0\n"
          ],
          "name": "stdout"
        }
      ]
    },
    {
      "cell_type": "code",
      "metadata": {
        "colab": {
          "base_uri": "https://localhost:8080/"
        },
        "id": "dGBM9IWz0ABb",
        "outputId": "0043aedf-f457-4713-bb32-31189aec798a"
      },
      "source": [
        " import pytemperature\n",
        "pytemperature.c2f(int(input('Enter the temperature in degree Celsius:')))"
      ],
      "execution_count": null,
      "outputs": [
        {
          "output_type": "stream",
          "text": [
            "Enter the temperature in degree Celsius:37\n"
          ],
          "name": "stdout"
        },
        {
          "output_type": "execute_result",
          "data": {
            "text/plain": [
              "98.6"
            ]
          },
          "metadata": {
            "tags": []
          },
          "execution_count": 4
        }
      ]
    }
  ]
}